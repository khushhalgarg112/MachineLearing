{
 "cells": [
  {
   "cell_type": "code",
   "execution_count": 1,
   "metadata": {},
   "outputs": [],
   "source": [
    "import numpy as np\n",
    "import random"
   ]
  },
  {
   "cell_type": "code",
   "execution_count": 2,
   "metadata": {},
   "outputs": [],
   "source": [
    "it = [1,3,5,7,11]"
   ]
  },
  {
   "cell_type": "code",
   "execution_count": 5,
   "metadata": {},
   "outputs": [],
   "source": [
    "n = np.array(it)"
   ]
  },
  {
   "cell_type": "code",
   "execution_count": 6,
   "metadata": {},
   "outputs": [
    {
     "data": {
      "text/plain": [
       "numpy.ndarray"
      ]
     },
     "execution_count": 6,
     "metadata": {},
     "output_type": "execute_result"
    }
   ],
   "source": [
    "type(n)"
   ]
  },
  {
   "cell_type": "code",
   "execution_count": 7,
   "metadata": {},
   "outputs": [
    {
     "data": {
      "text/plain": [
       "array([[1, 2],\n",
       "       [3, 4]])"
      ]
     },
     "execution_count": 7,
     "metadata": {},
     "output_type": "execute_result"
    }
   ],
   "source": [
    "twod = np.array([[1,2],[3,4]])\n",
    "twod"
   ]
  },
  {
   "cell_type": "code",
   "execution_count": 8,
   "metadata": {},
   "outputs": [
    {
     "name": "stderr",
     "output_type": "stream",
     "text": [
      "C:\\Users\\IT\\AppData\\Local\\Temp\\ipykernel_12364\\3959930743.py:1: VisibleDeprecationWarning: Creating an ndarray from ragged nested sequences (which is a list-or-tuple of lists-or-tuples-or ndarrays with different lengths or shapes) is deprecated. If you meant to do this, you must specify 'dtype=object' when creating the ndarray.\n",
      "  twod = np.array([[1,2],[3,4,5]])\n"
     ]
    },
    {
     "data": {
      "text/plain": [
       "array([list([1, 2]), list([3, 4, 5])], dtype=object)"
      ]
     },
     "execution_count": 8,
     "metadata": {},
     "output_type": "execute_result"
    }
   ],
   "source": [
    "twod = np.array([[1,2],[3,4,5]])\n",
    "twod  # There is unequal elements in both array so it make it as list"
   ]
  },
  {
   "cell_type": "code",
   "execution_count": 14,
   "metadata": {},
   "outputs": [
    {
     "data": {
      "text/plain": [
       "4"
      ]
     },
     "execution_count": 14,
     "metadata": {},
     "output_type": "execute_result"
    }
   ],
   "source": [
    "y = np.array([1,2,3,'4'])\n",
    "\n",
    "y # this array becaome in U11 code as it convert every integeri into string\n",
    "# y.shape\n",
    "# y.size"
   ]
  },
  {
   "cell_type": "code",
   "execution_count": 19,
   "metadata": {},
   "outputs": [
    {
     "data": {
      "text/plain": [
       "array([[ 0,  1,  2],\n",
       "       [ 3,  4,  5],\n",
       "       [ 6,  7,  8],\n",
       "       [ 9, 10, 11]])"
      ]
     },
     "execution_count": 19,
     "metadata": {},
     "output_type": "execute_result"
    }
   ],
   "source": [
    "a = np.arange(12).reshape(4,3)\n",
    "a"
   ]
  },
  {
   "cell_type": "code",
   "execution_count": 21,
   "metadata": {},
   "outputs": [
    {
     "data": {
      "text/plain": [
       "[9, 11, 13, 15, 17, 19]"
      ]
     },
     "execution_count": 21,
     "metadata": {},
     "output_type": "execute_result"
    }
   ],
   "source": [
    "list(range(9,20,2))  # this gives us range from 9-20 with gap of 2"
   ]
  },
  {
   "cell_type": "code",
   "execution_count": 25,
   "metadata": {},
   "outputs": [],
   "source": [
    "# np.arange?     To find documentation of that function\n",
    "\n",
    "\n"
   ]
  },
  {
   "cell_type": "code",
   "execution_count": 53,
   "metadata": {},
   "outputs": [],
   "source": [
    "arr1 = np.arange(40)\n"
   ]
  },
  {
   "cell_type": "code",
   "execution_count": 27,
   "metadata": {},
   "outputs": [],
   "source": [
    "arr2 = arr1.reshape(8,5)\n"
   ]
  },
  {
   "cell_type": "code",
   "execution_count": 28,
   "metadata": {},
   "outputs": [
    {
     "data": {
      "text/plain": [
       "array([1000,    1,    2,    3,    4,    5,    6,    7,    8,    9,   10,\n",
       "         11,   12,   13,   14,   15,   16,   17,   18,   19,   20,   21,\n",
       "         22,   23,   24,   25,   26,   27,   28,   29,   30,   31,   32,\n",
       "         33,   34,   35,   36,   37,   38,   39])"
      ]
     },
     "execution_count": 28,
     "metadata": {},
     "output_type": "execute_result"
    }
   ],
   "source": [
    "arr1[0] = 1000\n",
    "arr1"
   ]
  },
  {
   "cell_type": "code",
   "execution_count": 29,
   "metadata": {},
   "outputs": [
    {
     "data": {
      "text/plain": [
       "array([[1000,    1,    2,    3,    4],\n",
       "       [   5,    6,    7,    8,    9],\n",
       "       [  10,   11,   12,   13,   14],\n",
       "       [  15,   16,   17,   18,   19],\n",
       "       [  20,   21,   22,   23,   24],\n",
       "       [  25,   26,   27,   28,   29],\n",
       "       [  30,   31,   32,   33,   34],\n",
       "       [  35,   36,   37,   38,   39]])"
      ]
     },
     "execution_count": 29,
     "metadata": {},
     "output_type": "execute_result"
    }
   ],
   "source": [
    "arr2"
   ]
  },
  {
   "cell_type": "code",
   "execution_count": 51,
   "metadata": {},
   "outputs": [],
   "source": [
    "# Broadcasting in numpy\n",
    "\n",
    "a  = np.random.randint(1,100,[2,4])  #these works\n",
    "b  = np.random.randint(1,100,[2,4])\n",
    "\n",
    "# a  = np.random.randint(1,100,[4])   this also works\n",
    "# b  = np.random.randint(1,100,[2,4])\n",
    "\n",
    "\n",
    "# a  = np.random.randint(1,100,[4,2]) This don't work\n",
    "# b  = np.random.randint(1,100,[2,4])\n",
    "\n",
    "# a  = np.random.randint(1,100,[23,32,1,2,4])  This also work 1 in it\n",
    "# b  = np.random.randint(1,100,[2,4])\n",
    "\n",
    "# Rules:- 1) Shape should be same check from right to left\n",
    "# 2) If it has 1 in it will work"
   ]
  },
  {
   "cell_type": "code",
   "execution_count": 52,
   "metadata": {},
   "outputs": [
    {
     "data": {
      "text/plain": [
       "array([[168,  95, 120, 108],\n",
       "       [127, 102,  93, 110]])"
      ]
     },
     "execution_count": 52,
     "metadata": {},
     "output_type": "execute_result"
    }
   ],
   "source": [
    "a+b"
   ]
  },
  {
   "cell_type": "code",
   "execution_count": 34,
   "metadata": {},
   "outputs": [
    {
     "data": {
      "text/plain": [
       "array([[25, 82, 40, 73],\n",
       "       [86,  8, 23, 83]])"
      ]
     },
     "execution_count": 34,
     "metadata": {},
     "output_type": "execute_result"
    }
   ],
   "source": [
    "b"
   ]
  },
  {
   "cell_type": "code",
   "execution_count": 35,
   "metadata": {},
   "outputs": [
    {
     "data": {
      "text/plain": [
       "array([66, 15, 29, 35])"
      ]
     },
     "execution_count": 35,
     "metadata": {},
     "output_type": "execute_result"
    }
   ],
   "source": [
    "a"
   ]
  },
  {
   "cell_type": "code",
   "execution_count": 58,
   "metadata": {},
   "outputs": [
    {
     "data": {
      "text/plain": [
       "array([[[[[7, 5, 7, 9, 7, 7],\n",
       "          [4, 2, 8, 6, 6, 4],\n",
       "          [6, 3, 1, 6, 1, 7],\n",
       "          [2, 4, 1, 5, 9, 6],\n",
       "          [1, 5, 1, 3, 2, 6]],\n",
       "\n",
       "         [[4, 6, 1, 1, 5, 1],\n",
       "          [9, 9, 9, 5, 3, 8],\n",
       "          [2, 3, 1, 7, 2, 5],\n",
       "          [4, 5, 1, 8, 1, 1],\n",
       "          [5, 8, 7, 5, 5, 1]],\n",
       "\n",
       "         [[5, 9, 9, 5, 1, 7],\n",
       "          [7, 6, 3, 2, 9, 6],\n",
       "          [9, 8, 8, 1, 8, 7],\n",
       "          [4, 8, 1, 2, 9, 7],\n",
       "          [3, 9, 7, 3, 9, 7]],\n",
       "\n",
       "         [[8, 8, 5, 4, 6, 2],\n",
       "          [8, 4, 8, 4, 3, 3],\n",
       "          [3, 2, 6, 4, 6, 5],\n",
       "          [7, 8, 7, 5, 2, 9],\n",
       "          [9, 5, 2, 4, 2, 1]]],\n",
       "\n",
       "\n",
       "        [[[7, 2, 8, 1, 6, 3],\n",
       "          [2, 8, 8, 9, 3, 2],\n",
       "          [7, 7, 7, 4, 9, 5],\n",
       "          [7, 6, 4, 8, 8, 7],\n",
       "          [7, 6, 5, 2, 8, 5]],\n",
       "\n",
       "         [[2, 8, 1, 7, 7, 8],\n",
       "          [9, 8, 5, 9, 7, 3],\n",
       "          [3, 6, 3, 1, 8, 9],\n",
       "          [9, 3, 9, 5, 7, 3],\n",
       "          [4, 7, 7, 2, 2, 2]],\n",
       "\n",
       "         [[5, 6, 6, 4, 2, 7],\n",
       "          [8, 1, 4, 7, 3, 1],\n",
       "          [4, 1, 3, 8, 9, 6],\n",
       "          [4, 3, 6, 2, 4, 4],\n",
       "          [2, 5, 5, 3, 3, 9]],\n",
       "\n",
       "         [[5, 3, 5, 2, 2, 8],\n",
       "          [4, 2, 4, 9, 7, 3],\n",
       "          [4, 5, 5, 6, 9, 3],\n",
       "          [1, 6, 4, 7, 8, 4],\n",
       "          [4, 8, 1, 6, 3, 5]]],\n",
       "\n",
       "\n",
       "        [[[4, 3, 8, 1, 9, 5],\n",
       "          [6, 3, 2, 2, 6, 1],\n",
       "          [3, 7, 7, 2, 1, 3],\n",
       "          [9, 5, 2, 5, 2, 8],\n",
       "          [1, 1, 7, 3, 1, 6]],\n",
       "\n",
       "         [[4, 9, 9, 6, 3, 6],\n",
       "          [1, 1, 4, 5, 4, 6],\n",
       "          [5, 6, 9, 7, 6, 7],\n",
       "          [6, 4, 3, 6, 4, 9],\n",
       "          [9, 2, 6, 3, 7, 9]],\n",
       "\n",
       "         [[3, 3, 7, 6, 9, 5],\n",
       "          [7, 4, 9, 7, 9, 2],\n",
       "          [2, 5, 2, 9, 9, 6],\n",
       "          [6, 3, 1, 8, 2, 2],\n",
       "          [6, 5, 6, 9, 3, 8]],\n",
       "\n",
       "         [[5, 6, 2, 3, 1, 1],\n",
       "          [5, 7, 7, 2, 6, 3],\n",
       "          [4, 2, 7, 2, 2, 7],\n",
       "          [6, 9, 3, 4, 8, 3],\n",
       "          [3, 2, 9, 6, 2, 1]]]],\n",
       "\n",
       "\n",
       "\n",
       "       [[[[5, 8, 9, 3, 9, 7],\n",
       "          [4, 5, 4, 9, 4, 4],\n",
       "          [5, 6, 1, 3, 1, 7],\n",
       "          [6, 6, 4, 2, 2, 6],\n",
       "          [4, 8, 1, 3, 4, 7]],\n",
       "\n",
       "         [[6, 2, 3, 1, 5, 1],\n",
       "          [4, 3, 3, 5, 7, 8],\n",
       "          [2, 6, 6, 5, 8, 5],\n",
       "          [8, 6, 6, 2, 9, 8],\n",
       "          [4, 4, 2, 8, 1, 9]],\n",
       "\n",
       "         [[8, 4, 2, 7, 4, 2],\n",
       "          [5, 5, 5, 5, 3, 8],\n",
       "          [7, 6, 5, 9, 4, 6],\n",
       "          [1, 3, 2, 9, 9, 2],\n",
       "          [5, 3, 8, 5, 1, 4]],\n",
       "\n",
       "         [[3, 9, 9, 6, 1, 9],\n",
       "          [3, 6, 1, 9, 2, 9],\n",
       "          [1, 3, 8, 2, 1, 9],\n",
       "          [5, 2, 5, 6, 7, 4],\n",
       "          [1, 9, 4, 3, 1, 1]]],\n",
       "\n",
       "\n",
       "        [[[2, 3, 5, 5, 9, 8],\n",
       "          [1, 3, 5, 5, 8, 2],\n",
       "          [9, 9, 9, 7, 1, 1],\n",
       "          [6, 4, 4, 5, 5, 5],\n",
       "          [5, 6, 3, 4, 6, 7]],\n",
       "\n",
       "         [[5, 9, 6, 2, 4, 8],\n",
       "          [6, 8, 4, 2, 3, 7],\n",
       "          [1, 2, 7, 5, 5, 1],\n",
       "          [1, 3, 3, 1, 1, 1],\n",
       "          [7, 1, 3, 3, 1, 6]],\n",
       "\n",
       "         [[7, 1, 3, 3, 5, 8],\n",
       "          [4, 4, 6, 8, 2, 9],\n",
       "          [3, 2, 1, 8, 7, 6],\n",
       "          [2, 2, 2, 8, 1, 4],\n",
       "          [1, 8, 1, 1, 2, 1]],\n",
       "\n",
       "         [[1, 6, 3, 4, 8, 1],\n",
       "          [6, 5, 8, 2, 8, 5],\n",
       "          [2, 4, 9, 2, 1, 5],\n",
       "          [8, 9, 3, 9, 9, 3],\n",
       "          [7, 3, 5, 1, 8, 5]]],\n",
       "\n",
       "\n",
       "        [[[2, 7, 6, 7, 6, 2],\n",
       "          [2, 5, 5, 2, 6, 5],\n",
       "          [2, 2, 1, 6, 4, 5],\n",
       "          [7, 3, 6, 5, 3, 5],\n",
       "          [9, 9, 3, 7, 3, 3]],\n",
       "\n",
       "         [[7, 1, 9, 2, 6, 5],\n",
       "          [7, 5, 3, 7, 8, 9],\n",
       "          [8, 4, 2, 7, 7, 3],\n",
       "          [9, 5, 1, 2, 3, 8],\n",
       "          [5, 6, 4, 6, 2, 8]],\n",
       "\n",
       "         [[6, 4, 2, 4, 3, 4],\n",
       "          [3, 5, 7, 9, 3, 2],\n",
       "          [4, 1, 1, 1, 8, 1],\n",
       "          [9, 4, 4, 6, 6, 6],\n",
       "          [6, 1, 3, 4, 5, 4]],\n",
       "\n",
       "         [[1, 3, 1, 5, 9, 2],\n",
       "          [3, 1, 6, 2, 2, 2],\n",
       "          [3, 7, 1, 1, 3, 8],\n",
       "          [9, 2, 9, 8, 6, 7],\n",
       "          [3, 7, 5, 6, 7, 7]]]]])"
      ]
     },
     "execution_count": 58,
     "metadata": {},
     "output_type": "execute_result"
    }
   ],
   "source": [
    "data = np.random.randint(1,10, size=(2,3,4,5,6))\n",
    "data"
   ]
  },
  {
   "cell_type": "code",
   "execution_count": 59,
   "metadata": {},
   "outputs": [],
   "source": [
    "b= np.random.randint(1,10,size=(4,5))"
   ]
  },
  {
   "cell_type": "code",
   "execution_count": 60,
   "metadata": {},
   "outputs": [
    {
     "data": {
      "text/plain": [
       "array([[1, 4, 4, 4, 3],\n",
       "       [9, 6, 7, 9, 2],\n",
       "       [6, 7, 6, 9, 6],\n",
       "       [3, 5, 5, 6, 9]])"
      ]
     },
     "execution_count": 60,
     "metadata": {},
     "output_type": "execute_result"
    }
   ],
   "source": [
    "b"
   ]
  },
  {
   "cell_type": "code",
   "execution_count": 61,
   "metadata": {},
   "outputs": [
    {
     "data": {
      "text/plain": [
       "111"
      ]
     },
     "execution_count": 61,
     "metadata": {},
     "output_type": "execute_result"
    }
   ],
   "source": [
    "b.sum()"
   ]
  },
  {
   "cell_type": "code",
   "execution_count": 62,
   "metadata": {},
   "outputs": [
    {
     "data": {
      "text/plain": [
       "array([16, 33, 34, 28])"
      ]
     },
     "execution_count": 62,
     "metadata": {},
     "output_type": "execute_result"
    }
   ],
   "source": [
    "b.sum(axis=1)"
   ]
  },
  {
   "cell_type": "code",
   "execution_count": 68,
   "metadata": {},
   "outputs": [],
   "source": [
    "x= np.random.randint(1,10,size=(3,4,5))"
   ]
  },
  {
   "cell_type": "code",
   "execution_count": 69,
   "metadata": {},
   "outputs": [
    {
     "data": {
      "text/plain": [
       "array([[[9, 2, 5, 1, 3],\n",
       "        [8, 9, 6, 2, 4],\n",
       "        [1, 3, 1, 3, 1],\n",
       "        [7, 8, 4, 8, 9]],\n",
       "\n",
       "       [[4, 1, 7, 9, 5],\n",
       "        [5, 4, 6, 6, 9],\n",
       "        [5, 4, 5, 9, 5],\n",
       "        [3, 2, 4, 6, 8]],\n",
       "\n",
       "       [[1, 4, 9, 1, 8],\n",
       "        [3, 5, 1, 5, 1],\n",
       "        [1, 2, 2, 9, 2],\n",
       "        [1, 4, 3, 9, 2]]])"
      ]
     },
     "execution_count": 69,
     "metadata": {},
     "output_type": "execute_result"
    }
   ],
   "source": [
    "x # visyualize it notes in notebook"
   ]
  },
  {
   "cell_type": "code",
   "execution_count": 66,
   "metadata": {},
   "outputs": [
    {
     "data": {
      "text/plain": [
       "303"
      ]
     },
     "execution_count": 66,
     "metadata": {},
     "output_type": "execute_result"
    }
   ],
   "source": [
    "x.sum()"
   ]
  },
  {
   "cell_type": "code",
   "execution_count": 78,
   "metadata": {},
   "outputs": [
    {
     "data": {
      "text/plain": [
       "array([[14,  7, 21, 11, 16],\n",
       "       [16, 18, 13, 13, 14],\n",
       "       [ 7,  9,  8, 21,  8],\n",
       "       [11, 14, 11, 23, 19]])"
      ]
     },
     "execution_count": 78,
     "metadata": {},
     "output_type": "execute_result"
    }
   ],
   "source": [
    "# x.sum(axis=1)\n",
    "x.sum(axis=0)"
   ]
  },
  {
   "cell_type": "code",
   "execution_count": 84,
   "metadata": {},
   "outputs": [
    {
     "data": {
      "text/plain": [
       "array([ 1. ,  1.9,  2.8,  3.7,  4.6,  5.5,  6.4,  7.3,  8.2,  9.1, 10. ])"
      ]
     },
     "execution_count": 84,
     "metadata": {},
     "output_type": "execute_result"
    }
   ],
   "source": [
    "# np.linspace(1,10,5)  # basically divide 1-10 in 5 equal parts\n",
    "np.linspace(1,10,11)\n"
   ]
  }
 ],
 "metadata": {
  "kernelspec": {
   "display_name": "Python 3",
   "language": "python",
   "name": "python3"
  },
  "language_info": {
   "codemirror_mode": {
    "name": "ipython",
    "version": 3
   },
   "file_extension": ".py",
   "mimetype": "text/x-python",
   "name": "python",
   "nbconvert_exporter": "python",
   "pygments_lexer": "ipython3",
   "version": "3.9.6"
  },
  "orig_nbformat": 4
 },
 "nbformat": 4,
 "nbformat_minor": 2
}
