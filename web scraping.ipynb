{
 "cells": [
  {
   "cell_type": "code",
   "execution_count": 8,
   "metadata": {},
   "outputs": [],
   "source": [
    "import requests\n",
    "\n",
    "from bs4 import BeautifulSoup"
   ]
  },
  {
   "cell_type": "code",
   "execution_count": 5,
   "metadata": {},
   "outputs": [],
   "source": [
    "# url = \"https://cdn.pixabay.com/photo/2015/04/23/22/00/tree-736885_1280.jpg\"\n",
    "# res = requests.get(url)"
   ]
  },
  {
   "cell_type": "markdown",
   "metadata": {},
   "source": [
    "Saving Image\n"
   ]
  },
  {
   "cell_type": "code",
   "execution_count": 7,
   "metadata": {},
   "outputs": [],
   "source": [
    "# res.content\n",
    "\n",
    "img  = open(\"images/nature.jpg\", \"wb\")\n",
    "\n",
    "img.write(res.content)\n",
    "\n",
    "img.close()\n",
    "\n"
   ]
  },
  {
   "cell_type": "code",
   "execution_count": 56,
   "metadata": {},
   "outputs": [],
   "source": [
    "url = \"https://www.goodreads.com/quotes/tag/{}?page={}\"\n"
   ]
  },
  {
   "cell_type": "code",
   "execution_count": 66,
   "metadata": {},
   "outputs": [],
   "source": [
    "    # quotes = soup.find_all(class_=\"quoteText\")   one method of doing this\n",
    "def scrape(url):\n",
    "        response = requests.get(url)\n",
    "        soup = BeautifulSoup(response.text)\n",
    "        quotes = soup.find_all(attrs={\"class\": \"quoteText\"})\n",
    "        tags = soup.find_all(\"div\", attrs={\"class\": \"left\"})\n",
    "\n",
    "        tag_list = []\n",
    "        for tag in tags:\n",
    "            anchor  = tag.find_all(\"a\")\n",
    "            final = [a.text for a in anchor]\n",
    "            tag_list.append(final)\n",
    "\n",
    "        i = 0\n",
    "        data_list = []\n",
    "\n",
    "        for q in quotes:\n",
    "            text = q.text.strip()\n",
    "            arr_text = text.split(\"\\n\")\n",
    "            quote = arr_text[0]\n",
    "            author = arr_text[-1]\n",
    "            dicts = {\n",
    "                \"quote\": quote,\n",
    "                \"author\": author,\n",
    "                \"tags\": tag_list[0]\n",
    "            }\n",
    "            i = i+1\n",
    "            data_list.append(dicts)\n",
    "\n",
    "        return data_list\n"
   ]
  },
  {
   "cell_type": "code",
   "execution_count": 67,
   "metadata": {},
   "outputs": [
    {
     "name": "stdout",
     "output_type": "stream",
     "text": [
      "processed 1\n",
      "processed 2\n",
      "processed 3\n",
      "processed 4\n",
      "processed 5\n"
     ]
    }
   ],
   "source": [
    "total_quotes =[]\n",
    "\n",
    "for i in range(1,6):\n",
    "    total_quotes.extend(scrape(url.format(\"motivational\", i)))\n",
    "    print(\"processed\", i)\n"
   ]
  },
  {
   "cell_type": "code",
   "execution_count": 70,
   "metadata": {},
   "outputs": [
    {
     "data": {
      "text/plain": [
       "150"
      ]
     },
     "execution_count": 70,
     "metadata": {},
     "output_type": "execute_result"
    }
   ],
   "source": [
    "len(total_quotes)"
   ]
  }
 ],
 "metadata": {
  "kernelspec": {
   "display_name": "Python 3",
   "language": "python",
   "name": "python3"
  },
  "language_info": {
   "codemirror_mode": {
    "name": "ipython",
    "version": 3
   },
   "file_extension": ".py",
   "mimetype": "text/x-python",
   "name": "python",
   "nbconvert_exporter": "python",
   "pygments_lexer": "ipython3",
   "version": "3.9.6"
  },
  "orig_nbformat": 4
 },
 "nbformat": 4,
 "nbformat_minor": 2
}
